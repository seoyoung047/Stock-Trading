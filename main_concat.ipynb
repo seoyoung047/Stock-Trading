{
 "cells": [
  {
   "cell_type": "code",
   "execution_count": 30,
   "metadata": {},
   "outputs": [],
   "source": [
    "import pandas as pd\n",
    "import numpy as np\n",
    "import os\n",
    "import glob\n",
    "from datetime import datetime\n",
    "from tqdm import tqdm\n",
    "import scipy\n",
    "# import ta\n",
    "# import talib"
   ]
  },
  {
   "cell_type": "code",
   "execution_count": 31,
   "metadata": {},
   "outputs": [],
   "source": [
    "#신세계푸드 031440 / 신세계건설 034300 / 신세계 I&C 035510\n",
    "# 광주신세계 037710 / (주식회사)신세계 004170 / (주식회사)이마트 139480 / 현대건설 000720 / CJ제일제당 097950\n",
    "codes=['031440','034300','035510','004170','139480','000720','097950']"
   ]
  },
  {
   "cell_type": "code",
   "execution_count": 32,
   "metadata": {},
   "outputs": [],
   "source": [
    "#신세계푸드 031440 /(주식회사)신세계 004170/(주식회사)이마트 139480\n",
    "main_codes = ['031440','004170','139480']"
   ]
  },
  {
   "cell_type": "code",
   "execution_count": 33,
   "metadata": {},
   "outputs": [],
   "source": [
    "sub_codes = list(set(codes) - set(main_codes))"
   ]
  },
  {
   "cell_type": "code",
   "execution_count": 34,
   "metadata": {},
   "outputs": [
    {
     "data": {
      "text/plain": [
       "['./data\\\\add_000720.csv',\n",
       " './data\\\\add_004170.csv',\n",
       " './data\\\\add_031440.csv',\n",
       " './data\\\\add_034300.csv',\n",
       " './data\\\\add_035510.csv',\n",
       " './data\\\\add_037710.csv',\n",
       " './data\\\\add_097950.csv',\n",
       " './data\\\\add_139480.csv']"
      ]
     },
     "execution_count": 34,
     "metadata": {},
     "output_type": "execute_result"
    }
   ],
   "source": [
    "glob.glob('./data/add_*.csv')"
   ]
  },
  {
   "cell_type": "code",
   "execution_count": 35,
   "metadata": {},
   "outputs": [],
   "source": [
    "# 데이터 불러오기\n",
    "for file in glob.glob('./data/add_*.csv'):\n",
    "    globals()['{}'.format(file[7:-4])] = pd.read_csv('{}'.format(file))\n"
   ]
  },
  {
   "cell_type": "code",
   "execution_count": 36,
   "metadata": {},
   "outputs": [],
   "source": [
    "# 앞 20개 데이터 자르기\n",
    "for code in codes:\n",
    "    globals()['add_{}'.format(code)] = globals()['add_{}'.format(code)].iloc[19:,:]"
   ]
  },
  {
   "cell_type": "code",
   "execution_count": 37,
   "metadata": {},
   "outputs": [
    {
     "data": {
      "text/plain": [
       "Index(['Datetime', 'D000720_open', 'D000720_high', 'D000720_low',\n",
       "       'D000720_close', 'D000720_volume', 'D000720_value',\n",
       "       'D000720_close yesterday', 'D000720_volume yesterday',\n",
       "       'D000720_ratio_close', 'D000720_ratio_high_close',\n",
       "       'D000720_ratio_low_close', 'D000720_ratio_open_close',\n",
       "       'D000720_ratio_volume', 'D000720_MA20', 'D000720_ratio_MA20_close',\n",
       "       'D000720_ratio_MA20_volume', 'D000720_last_price', 'D000720_sign'],\n",
       "      dtype='object')"
      ]
     },
     "execution_count": 37,
     "metadata": {},
     "output_type": "execute_result"
    }
   ],
   "source": [
    "add_000720.columns"
   ]
  },
  {
   "cell_type": "code",
   "execution_count": 38,
   "metadata": {},
   "outputs": [
    {
     "data": {
      "text/plain": [
       "Index(['Datetime', 'D000720_sign', 'D000720_ratio_close',\n",
       "       'D000720_ratio_high_close', 'D000720_ratio_low_close',\n",
       "       'D000720_ratio_open_close', 'D000720_ratio_volume',\n",
       "       'D000720_ratio_MA20_close', 'D000720_ratio_MA20_volume'],\n",
       "      dtype='object')"
      ]
     },
     "execution_count": 38,
     "metadata": {},
     "output_type": "execute_result"
    }
   ],
   "source": [
    "add_000720.columns[[0,18,9,10,11,12,13,15,16]]"
   ]
  },
  {
   "cell_type": "code",
   "execution_count": 39,
   "metadata": {},
   "outputs": [],
   "source": [
    "# 직전가, 직전 종가,거래량 제거\n",
    "for code in sub_codes:\n",
    "    globals()['add_{}'.format(code)] = globals()['add_{}'.format(code)].iloc[:,[0,18,9,10,11,12,13,15,16]]"
   ]
  },
  {
   "cell_type": "code",
   "execution_count": 40,
   "metadata": {},
   "outputs": [
    {
     "data": {
      "text/plain": [
       "Index(['Datetime', 'open', 'high', 'low', 'close', 'volume', 'value',\n",
       "       'close yesterday', 'volume yesterday', 'ratio_close',\n",
       "       'ratio_high_close', 'ratio_low_close', 'ratio_open_close',\n",
       "       'ratio_volume', 'MA20', 'ratio_MA20_close', 'ratio_MA20_volume',\n",
       "       'last_price', 'sign', 'kospi_change', 'kospi_ratio_MA20_close',\n",
       "       'USD_change', 'USD_ratio_MA20_close', 'CNY_change',\n",
       "       'CNY_ratio_MA20_close'],\n",
       "      dtype='object')"
      ]
     },
     "execution_count": 40,
     "metadata": {},
     "output_type": "execute_result"
    }
   ],
   "source": [
    "add_031440.columns"
   ]
  },
  {
   "cell_type": "code",
   "execution_count": 41,
   "metadata": {},
   "outputs": [
    {
     "data": {
      "text/plain": [
       "Index(['Datetime', 'ratio_close', 'ratio_high_close', 'ratio_low_close',\n",
       "       'ratio_open_close', 'ratio_volume', 'ratio_MA20_close',\n",
       "       'ratio_MA20_volume', 'sign', 'kospi_change', 'kospi_ratio_MA20_close',\n",
       "       'USD_change', 'USD_ratio_MA20_close', 'CNY_change',\n",
       "       'CNY_ratio_MA20_close'],\n",
       "      dtype='object')"
      ]
     },
     "execution_count": 41,
     "metadata": {},
     "output_type": "execute_result"
    }
   ],
   "source": [
    "add_031440.columns[[0,9,10,11,12,13,15,16,18,19,20,21,22,23,24]]"
   ]
  },
  {
   "cell_type": "code",
   "execution_count": 42,
   "metadata": {},
   "outputs": [],
   "source": [
    "# OHLC 포함\n",
    "for code in main_codes:\n",
    "    globals()['OHLC_{}'.format(code)] = globals()['add_{}'.format(code)].iloc[:,[0,1,2,3,4,5,9,10,11,12,13,15,16,18,19,20,21,22,23,24]]"
   ]
  },
  {
   "cell_type": "code",
   "execution_count": 44,
   "metadata": {},
   "outputs": [],
   "source": [
    "# 메인종목에 서브 종목 컬럼 추가\n",
    "for mcode in main_codes:\n",
    "    for scode in sub_codes:\n",
    "        globals()['OHLC_{}'.format(mcode)][globals()['add_{}'.format(scode)].columns] = globals()['add_{}'.format(scode)]"
   ]
  },
  {
   "cell_type": "code",
   "execution_count": 47,
   "metadata": {},
   "outputs": [],
   "source": [
    "# 메인 종목 라벨(답) 위치 맨 뒤로\n",
    "for code in main_codes:\n",
    "    label = []\n",
    "    label = globals()['OHLC_{}'.format(code)]['sign']\n",
    "    globals()['OHLC_{}'.format(code)]['label'] = label\n",
    "    globals()['OHLC_{}'.format(code)].drop(columns='sign', inplace=True)\n",
    "    globals()['OHLC_{}'.format(code)].reset_index(inplace=True, drop=True)"
   ]
  },
  {
   "cell_type": "code",
   "execution_count": 48,
   "metadata": {},
   "outputs": [
    {
     "data": {
      "text/plain": [
       "0         1\n",
       "1         0\n",
       "2        -1\n",
       "3         0\n",
       "4         0\n",
       "         ..\n",
       "194156    0\n",
       "194157    0\n",
       "194158    1\n",
       "194159    0\n",
       "194160   -1\n",
       "Name: label, Length: 194161, dtype: int64"
      ]
     },
     "execution_count": 48,
     "metadata": {},
     "output_type": "execute_result"
    }
   ],
   "source": [
    "OHLC_031440.iloc[:,-1]"
   ]
  },
  {
   "cell_type": "code",
   "execution_count": 49,
   "metadata": {},
   "outputs": [],
   "source": [
    "# 수정된 데이터 저장\n",
    "for code in main_codes:\n",
    "    globals()['OHLC_{}'.format(code)].to_csv('./data/OHLC_{}.csv'.format(code),index=False)"
   ]
  },
  {
   "cell_type": "code",
   "execution_count": 55,
   "metadata": {},
   "outputs": [
    {
     "data": {
      "text/plain": [
       "Index(['Datetime', 'open', 'high', 'low', 'close', 'volume', 'ratio_close',\n",
       "       'ratio_high_close', 'ratio_low_close', 'ratio_open_close',\n",
       "       'ratio_volume', 'ratio_MA20_close', 'ratio_MA20_volume', 'kospi_change',\n",
       "       'kospi_ratio_MA20_close', 'USD_change', 'USD_ratio_MA20_close',\n",
       "       'CNY_change', 'CNY_ratio_MA20_close', 'D000720_sign',\n",
       "       'D000720_ratio_close', 'D000720_ratio_high_close',\n",
       "       'D000720_ratio_low_close', 'D000720_ratio_open_close',\n",
       "       'D000720_ratio_volume', 'D000720_ratio_MA20_close',\n",
       "       'D000720_ratio_MA20_volume', 'D097950_sign', 'D097950_ratio_close',\n",
       "       'D097950_ratio_high_close', 'D097950_ratio_low_close',\n",
       "       'D097950_ratio_open_close', 'D097950_ratio_volume',\n",
       "       'D097950_ratio_MA20_close', 'D097950_ratio_MA20_volume', 'D034300_sign',\n",
       "       'D034300_ratio_close', 'D034300_ratio_high_close',\n",
       "       'D034300_ratio_low_close', 'D034300_ratio_open_close',\n",
       "       'D034300_ratio_volume', 'D034300_ratio_MA20_close',\n",
       "       'D034300_ratio_MA20_volume', 'D035510_sign', 'D035510_ratio_close',\n",
       "       'D035510_ratio_high_close', 'D035510_ratio_low_close',\n",
       "       'D035510_ratio_open_close', 'D035510_ratio_volume',\n",
       "       'D035510_ratio_MA20_close', 'D035510_ratio_MA20_volume', 'label'],\n",
       "      dtype='object')"
      ]
     },
     "execution_count": 55,
     "metadata": {},
     "output_type": "execute_result"
    }
   ],
   "source": [
    "OHLC_004170.columns"
   ]
  },
  {
   "cell_type": "code",
   "execution_count": 56,
   "metadata": {},
   "outputs": [
    {
     "name": "stdout",
     "output_type": "stream",
     "text": [
      "<class 'pandas.core.frame.DataFrame'>\n",
      "RangeIndex: 194161 entries, 0 to 194160\n",
      "Data columns (total 52 columns):\n",
      " #   Column                     Non-Null Count   Dtype  \n",
      "---  ------                     --------------   -----  \n",
      " 0   Datetime                   194161 non-null  object \n",
      " 1   open                       194161 non-null  float64\n",
      " 2   high                       194161 non-null  float64\n",
      " 3   low                        194161 non-null  float64\n",
      " 4   close                      194161 non-null  float64\n",
      " 5   volume                     194161 non-null  int64  \n",
      " 6   ratio_close                194161 non-null  float64\n",
      " 7   ratio_high_close           194161 non-null  float64\n",
      " 8   ratio_low_close            194161 non-null  float64\n",
      " 9   ratio_open_close           194161 non-null  float64\n",
      " 10  ratio_volume               194161 non-null  float64\n",
      " 11  ratio_MA20_close           194161 non-null  float64\n",
      " 12  ratio_MA20_volume          194161 non-null  float64\n",
      " 13  kospi_change               194161 non-null  float64\n",
      " 14  kospi_ratio_MA20_close     194161 non-null  float64\n",
      " 15  USD_change                 194161 non-null  float64\n",
      " 16  USD_ratio_MA20_close       194161 non-null  float64\n",
      " 17  CNY_change                 194161 non-null  float64\n",
      " 18  CNY_ratio_MA20_close       194161 non-null  float64\n",
      " 19  D000720_sign               194161 non-null  int64  \n",
      " 20  D000720_ratio_close        194161 non-null  float64\n",
      " 21  D000720_ratio_high_close   194161 non-null  float64\n",
      " 22  D000720_ratio_low_close    194161 non-null  float64\n",
      " 23  D000720_ratio_open_close   194161 non-null  float64\n",
      " 24  D000720_ratio_volume       194161 non-null  float64\n",
      " 25  D000720_ratio_MA20_close   194161 non-null  float64\n",
      " 26  D000720_ratio_MA20_volume  194161 non-null  float64\n",
      " 27  D097950_sign               194161 non-null  int64  \n",
      " 28  D097950_ratio_close        194161 non-null  float64\n",
      " 29  D097950_ratio_high_close   194161 non-null  float64\n",
      " 30  D097950_ratio_low_close    194161 non-null  float64\n",
      " 31  D097950_ratio_open_close   194161 non-null  float64\n",
      " 32  D097950_ratio_volume       194161 non-null  float64\n",
      " 33  D097950_ratio_MA20_close   194161 non-null  float64\n",
      " 34  D097950_ratio_MA20_volume  194161 non-null  float64\n",
      " 35  D034300_sign               194161 non-null  int64  \n",
      " 36  D034300_ratio_close        194161 non-null  float64\n",
      " 37  D034300_ratio_high_close   194161 non-null  float64\n",
      " 38  D034300_ratio_low_close    194161 non-null  float64\n",
      " 39  D034300_ratio_open_close   194161 non-null  float64\n",
      " 40  D034300_ratio_volume       194161 non-null  float64\n",
      " 41  D034300_ratio_MA20_close   194161 non-null  float64\n",
      " 42  D034300_ratio_MA20_volume  194161 non-null  float64\n",
      " 43  D035510_sign               194161 non-null  int64  \n",
      " 44  D035510_ratio_close        194161 non-null  float64\n",
      " 45  D035510_ratio_high_close   194161 non-null  float64\n",
      " 46  D035510_ratio_low_close    194161 non-null  float64\n",
      " 47  D035510_ratio_open_close   194161 non-null  float64\n",
      " 48  D035510_ratio_volume       194161 non-null  float64\n",
      " 49  D035510_ratio_MA20_close   194161 non-null  float64\n",
      " 50  D035510_ratio_MA20_volume  194161 non-null  float64\n",
      " 51  label                      194161 non-null  int64  \n",
      "dtypes: float64(45), int64(6), object(1)\n",
      "memory usage: 77.0+ MB\n"
     ]
    }
   ],
   "source": [
    "OHLC_031440.info()"
   ]
  },
  {
   "cell_type": "code",
   "execution_count": null,
   "metadata": {},
   "outputs": [],
   "source": []
  }
 ],
 "metadata": {
  "kernelspec": {
   "display_name": "py3732bit",
   "language": "python",
   "name": "python3"
  },
  "language_info": {
   "codemirror_mode": {
    "name": "ipython",
    "version": 3
   },
   "file_extension": ".py",
   "mimetype": "text/x-python",
   "name": "python",
   "nbconvert_exporter": "python",
   "pygments_lexer": "ipython3",
   "version": "3.10.11"
  },
  "orig_nbformat": 4
 },
 "nbformat": 4,
 "nbformat_minor": 2
}
