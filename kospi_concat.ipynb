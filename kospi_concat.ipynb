{
 "cells": [
  {
   "cell_type": "code",
   "execution_count": 1,
   "metadata": {},
   "outputs": [],
   "source": [
    "import pandas as pd\n",
    "import numpy as np\n",
    "import os\n",
    "import glob\n",
    "from datetime import datetime\n",
    "from tqdm import tqdm"
   ]
  },
  {
   "cell_type": "code",
   "execution_count": 3,
   "metadata": {},
   "outputs": [
    {
     "name": "stdout",
     "output_type": "stream",
     "text": [
      "['20210628~20210705.csv', '20210706~20210712.csv', '20210713~20210719.csv', '20210720~20210726.csv', '20210727~20210802.csv', '20210803~20210809.csv', '20210810~20210816.csv', '20210817~20210823.csv', '20210824~20210830.csv', '20210831~20210906.csv', '20210907~20210913.csv', '20210914~20210921.csv', '20210922~20210928.csv', '20210929~20211004.csv', '20211005~20211011.csv', '20211012~20211018.csv', '20211019~20211025.csv', '20211026~20211101.csv', '20211102~20211108.csv', '20211109~20211115.csv', '20211116~20211122.csv', '20211123~20211129.csv', '20211130~20211206.csv', '20211207~20211213.csv', '20211214~20211220.csv', '20211221~20211227.csv', '20211228~20220103.csv', '20220104~20220110.csv', '20220111~20220117.csv', '20220118~20220124.csv', '20220125~20220131.csv', '20220201~20220207.csv', '20220208~20220214.csv', '20220215~20220221.csv', '20220222~20220301.csv', '20220302~20220307.csv', '20220308~20220314.csv', '20220315~20220321.csv', '20220322~20220328.csv', '20220329~20220404.csv', '20220405~20220411.csv', '20220412~20220418.csv', '20220419~20220425.csv', '20220426~20220502.csv', '20220503~20220509.csv', '20220510~20220516.csv', '20220517~20220523.csv', '20220524~20220530.csv', '20220531~20220606.csv', '20220607~20220613.csv', '20220614~20220620.csv', '20220621~20220627.csv', '20220628~20220704.csv', '20220705~20220711.csv', '20220712~20220718.csv', '20220719~20220725.csv', '20220726~20220801.csv', '20220802~20220808.csv', '20220809~20220815.csv', '20220816~20220822.csv', '20220823~20220829.csv', '20220830~20220905.csv', '20220906~20220912.csv', '20220913~20220919.csv', '20220920~20220926.csv', '20220927~20221003.csv', '20221004~20221010.csv', '20221011~20221017.csv', '20221018~20221024.csv', '20221025~20221031.csv', '20221101~20221107.csv', '20221108~20221114.csv', '20221115~20221121.csv', '20221122~20221128.csv', '20221129~20221205.csv', '20221206~20221212.csv', '20221213~20221219.csv', '20221220~20221226.csv', '20221227~20230102.csv', '20230103~20230109.csv', '20230110~20230116.csv', '20230117~20230123.csv', '20230124~20230130.csv', '20230131~20230206.csv', '20230207~20230213.csv', '20230214~20230220.csv', '20230221~20230227.csv', '20230228~20230306.csv', '20230307~20230313.csv', '20230314~20230320.csv', '20230321~20230327.csv', '20230328~20230403.csv', '20230404~20230410.csv', '20230411~20230417.csv', '20230418~20230424.csv', '20230425~20230501.csv', '20230502~20230508.csv', '20230509~20230515.csv', '20230516~20230522.csv', '20230523~20230529.csv', '20230530~20230605.csv', '20230606~20230612.csv', '20230613~20230619.csv', '20230620~20230626.csv', '20230627~20230703.csv', '20230704~20230705.csv', '20230706~20230712.csv', '20230713~20230719.csv', '20230720~20230720.csv', 'kospi.csv']\n"
     ]
    }
   ],
   "source": [
    "files = os.listdir('./data/kospidata/')\n",
    "print(files)"
   ]
  },
  {
   "cell_type": "code",
   "execution_count": 4,
   "metadata": {},
   "outputs": [
    {
     "data": {
      "text/plain": [
       "'20210628~20210705'"
      ]
     },
     "execution_count": 4,
     "metadata": {},
     "output_type": "execute_result"
    }
   ],
   "source": [
    "files[0][:-4]"
   ]
  },
  {
   "cell_type": "code",
   "execution_count": 5,
   "metadata": {},
   "outputs": [
    {
     "data": {
      "text/html": [
       "<div>\n",
       "<style scoped>\n",
       "    .dataframe tbody tr th:only-of-type {\n",
       "        vertical-align: middle;\n",
       "    }\n",
       "\n",
       "    .dataframe tbody tr th {\n",
       "        vertical-align: top;\n",
       "    }\n",
       "\n",
       "    .dataframe thead th {\n",
       "        text-align: right;\n",
       "    }\n",
       "</style>\n",
       "<table border=\"1\" class=\"dataframe\">\n",
       "  <thead>\n",
       "    <tr style=\"text-align: right;\">\n",
       "      <th></th>\n",
       "      <th>날짜</th>\n",
       "      <th>시간</th>\n",
       "      <th>고가</th>\n",
       "      <th>저가</th>\n",
       "      <th>종가</th>\n",
       "    </tr>\n",
       "  </thead>\n",
       "  <tbody>\n",
       "    <tr>\n",
       "      <th>0</th>\n",
       "      <td>20210705</td>\n",
       "      <td>1530</td>\n",
       "      <td>3293.729980</td>\n",
       "      <td>3293.080078</td>\n",
       "      <td>3293.209961</td>\n",
       "    </tr>\n",
       "    <tr>\n",
       "      <th>1</th>\n",
       "      <td>20210705</td>\n",
       "      <td>1529</td>\n",
       "      <td>3293.729980</td>\n",
       "      <td>3293.729980</td>\n",
       "      <td>3293.729980</td>\n",
       "    </tr>\n",
       "    <tr>\n",
       "      <th>2</th>\n",
       "      <td>20210705</td>\n",
       "      <td>1528</td>\n",
       "      <td>3293.729980</td>\n",
       "      <td>3293.729980</td>\n",
       "      <td>3293.729980</td>\n",
       "    </tr>\n",
       "    <tr>\n",
       "      <th>3</th>\n",
       "      <td>20210705</td>\n",
       "      <td>1527</td>\n",
       "      <td>3293.729980</td>\n",
       "      <td>3293.729980</td>\n",
       "      <td>3293.729980</td>\n",
       "    </tr>\n",
       "    <tr>\n",
       "      <th>4</th>\n",
       "      <td>20210705</td>\n",
       "      <td>1526</td>\n",
       "      <td>3293.729980</td>\n",
       "      <td>3293.729980</td>\n",
       "      <td>3293.729980</td>\n",
       "    </tr>\n",
       "    <tr>\n",
       "      <th>...</th>\n",
       "      <td>...</td>\n",
       "      <td>...</td>\n",
       "      <td>...</td>\n",
       "      <td>...</td>\n",
       "      <td>...</td>\n",
       "    </tr>\n",
       "    <tr>\n",
       "      <th>2335</th>\n",
       "      <td>20210628</td>\n",
       "      <td>905</td>\n",
       "      <td>3299.639893</td>\n",
       "      <td>3298.590088</td>\n",
       "      <td>3298.739990</td>\n",
       "    </tr>\n",
       "    <tr>\n",
       "      <th>2336</th>\n",
       "      <td>20210628</td>\n",
       "      <td>904</td>\n",
       "      <td>3302.820068</td>\n",
       "      <td>3300.129883</td>\n",
       "      <td>3300.129883</td>\n",
       "    </tr>\n",
       "    <tr>\n",
       "      <th>2337</th>\n",
       "      <td>20210628</td>\n",
       "      <td>903</td>\n",
       "      <td>3304.020020</td>\n",
       "      <td>3302.399902</td>\n",
       "      <td>3302.909912</td>\n",
       "    </tr>\n",
       "    <tr>\n",
       "      <th>2338</th>\n",
       "      <td>20210628</td>\n",
       "      <td>902</td>\n",
       "      <td>3307.860107</td>\n",
       "      <td>3302.389893</td>\n",
       "      <td>3302.969971</td>\n",
       "    </tr>\n",
       "    <tr>\n",
       "      <th>2339</th>\n",
       "      <td>20210628</td>\n",
       "      <td>901</td>\n",
       "      <td>3308.520020</td>\n",
       "      <td>3304.860107</td>\n",
       "      <td>3306.929932</td>\n",
       "    </tr>\n",
       "  </tbody>\n",
       "</table>\n",
       "<p>2340 rows × 5 columns</p>\n",
       "</div>"
      ],
      "text/plain": [
       "            날짜    시간           고가           저가           종가\n",
       "0     20210705  1530  3293.729980  3293.080078  3293.209961\n",
       "1     20210705  1529  3293.729980  3293.729980  3293.729980\n",
       "2     20210705  1528  3293.729980  3293.729980  3293.729980\n",
       "3     20210705  1527  3293.729980  3293.729980  3293.729980\n",
       "4     20210705  1526  3293.729980  3293.729980  3293.729980\n",
       "...        ...   ...          ...          ...          ...\n",
       "2335  20210628   905  3299.639893  3298.590088  3298.739990\n",
       "2336  20210628   904  3302.820068  3300.129883  3300.129883\n",
       "2337  20210628   903  3304.020020  3302.399902  3302.909912\n",
       "2338  20210628   902  3307.860107  3302.389893  3302.969971\n",
       "2339  20210628   901  3308.520020  3304.860107  3306.929932\n",
       "\n",
       "[2340 rows x 5 columns]"
      ]
     },
     "execution_count": 5,
     "metadata": {},
     "output_type": "execute_result"
    }
   ],
   "source": [
    "df = pd.read_csv('./data/kospidata/20210628~20210705.csv',header=None)\n",
    "df.columns = ['날짜','시간','고가','저가','종가']\n",
    "df"
   ]
  },
  {
   "cell_type": "code",
   "execution_count": 6,
   "metadata": {},
   "outputs": [],
   "source": [
    "df_all = pd.DataFrame()\n",
    "i=0\n",
    "for file in files[:-1]:\n",
    "    \n",
    "    globals()['df_{}_'.format(i)] = pd.read_csv('./data/kospidata/{}'.format(file), header=None)\n",
    "    globals()['df_{}_'.format(i)].columns = ['날짜','시간','고가','저가','종가']\n",
    "    df_all = pd.concat([df_all, globals()['df_{}_'.format(i)]])\n",
    "    df_all.reset_index(inplace=True,drop=True)\n",
    "    i+=1"
   ]
  },
  {
   "cell_type": "code",
   "execution_count": 7,
   "metadata": {},
   "outputs": [],
   "source": [
    "df_all['날짜'] = pd.to_datetime(df_all['날짜'],format='%Y%m%d')"
   ]
  },
  {
   "cell_type": "code",
   "execution_count": 8,
   "metadata": {},
   "outputs": [],
   "source": [
    "df_all.sort_values(by='날짜',inplace=True)"
   ]
  },
  {
   "cell_type": "code",
   "execution_count": 9,
   "metadata": {},
   "outputs": [],
   "source": [
    "dates = df_all['날짜'].dt.date.unique()"
   ]
  },
  {
   "cell_type": "code",
   "execution_count": null,
   "metadata": {},
   "outputs": [],
   "source": [
    "dates"
   ]
  },
  {
   "cell_type": "code",
   "execution_count": 11,
   "metadata": {},
   "outputs": [],
   "source": [
    "testdf = pd.DataFrame()\n",
    "\n",
    "for date in dates:\n",
    "    daily_data = df_all[df_all['날짜'].dt.date == date].copy()\n",
    "\n",
    "    daily_data['종가'] = daily_data['종가'].shift(1)\n",
    "    daily_data = daily_data.dropna()\n",
    "\n",
    "    testdf = pd.concat([testdf,daily_data])"
   ]
  },
  {
   "cell_type": "code",
   "execution_count": 12,
   "metadata": {},
   "outputs": [],
   "source": [
    "testdf.reset_index(drop=True,inplace=True)"
   ]
  },
  {
   "cell_type": "code",
   "execution_count": 13,
   "metadata": {},
   "outputs": [],
   "source": [
    "# 9시00분~15시20분 외 데이터 자르기\n",
    "i=0\n",
    "for time_ in testdf['시간'].astype('str') :\n",
    "    time_ = datetime.strptime(time_, '%H%M').time()\n",
    "    if (time_ > datetime.strptime('1520','%H%M').time()) or (time_ < datetime.strptime('0900','%H%M').time()) :\n",
    "        testdf.drop(index=[i],axis=1,inplace=True)\n",
    "        i+=1\n",
    "    else:\n",
    "        i+=1"
   ]
  },
  {
   "cell_type": "code",
   "execution_count": 14,
   "metadata": {},
   "outputs": [
    {
     "data": {
      "text/plain": [
       "380"
      ]
     },
     "execution_count": 14,
     "metadata": {},
     "output_type": "execute_result"
    }
   ],
   "source": [
    "len(testdf['시간'].unique())"
   ]
  },
  {
   "cell_type": "code",
   "execution_count": 16,
   "metadata": {},
   "outputs": [],
   "source": [
    "# 날짜 + 시간 = Datetime 컬럼  추가\n",
    "testdf.insert(0,'Datetime',testdf['날짜'].astype('str') + testdf['시간'].astype('str'))\n",
    "testdf['Datetime'] = testdf['Datetime'].apply(lambda _ : datetime.strptime(_,'%Y-%m-%d%H%M'))\n",
    "\n",
    "# 시간순 정렬\n",
    "testdf.sort_values('Datetime',inplace=True,ignore_index=True)\n"
   ]
  },
  {
   "cell_type": "code",
   "execution_count": 17,
   "metadata": {},
   "outputs": [
    {
     "data": {
      "text/html": [
       "<div>\n",
       "<style scoped>\n",
       "    .dataframe tbody tr th:only-of-type {\n",
       "        vertical-align: middle;\n",
       "    }\n",
       "\n",
       "    .dataframe tbody tr th {\n",
       "        vertical-align: top;\n",
       "    }\n",
       "\n",
       "    .dataframe thead th {\n",
       "        text-align: right;\n",
       "    }\n",
       "</style>\n",
       "<table border=\"1\" class=\"dataframe\">\n",
       "  <thead>\n",
       "    <tr style=\"text-align: right;\">\n",
       "      <th></th>\n",
       "      <th>Datetime</th>\n",
       "      <th>날짜</th>\n",
       "      <th>시간</th>\n",
       "      <th>고가</th>\n",
       "      <th>저가</th>\n",
       "      <th>종가</th>\n",
       "    </tr>\n",
       "  </thead>\n",
       "  <tbody>\n",
       "    <tr>\n",
       "      <th>0</th>\n",
       "      <td>2021-06-28 09:01:00</td>\n",
       "      <td>2021-06-28</td>\n",
       "      <td>901</td>\n",
       "      <td>3308.520020</td>\n",
       "      <td>3304.860107</td>\n",
       "      <td>3302.969971</td>\n",
       "    </tr>\n",
       "    <tr>\n",
       "      <th>1</th>\n",
       "      <td>2021-06-28 09:02:00</td>\n",
       "      <td>2021-06-28</td>\n",
       "      <td>902</td>\n",
       "      <td>3307.860107</td>\n",
       "      <td>3302.389893</td>\n",
       "      <td>3302.909912</td>\n",
       "    </tr>\n",
       "    <tr>\n",
       "      <th>2</th>\n",
       "      <td>2021-06-28 09:03:00</td>\n",
       "      <td>2021-06-28</td>\n",
       "      <td>903</td>\n",
       "      <td>3304.020020</td>\n",
       "      <td>3302.399902</td>\n",
       "      <td>3300.129883</td>\n",
       "    </tr>\n",
       "    <tr>\n",
       "      <th>3</th>\n",
       "      <td>2021-06-28 09:04:00</td>\n",
       "      <td>2021-06-28</td>\n",
       "      <td>904</td>\n",
       "      <td>3302.820068</td>\n",
       "      <td>3300.129883</td>\n",
       "      <td>3298.739990</td>\n",
       "    </tr>\n",
       "    <tr>\n",
       "      <th>4</th>\n",
       "      <td>2021-06-28 09:05:00</td>\n",
       "      <td>2021-06-28</td>\n",
       "      <td>905</td>\n",
       "      <td>3299.639893</td>\n",
       "      <td>3298.590088</td>\n",
       "      <td>3298.919922</td>\n",
       "    </tr>\n",
       "    <tr>\n",
       "      <th>...</th>\n",
       "      <td>...</td>\n",
       "      <td>...</td>\n",
       "      <td>...</td>\n",
       "      <td>...</td>\n",
       "      <td>...</td>\n",
       "      <td>...</td>\n",
       "    </tr>\n",
       "    <tr>\n",
       "      <th>193478</th>\n",
       "      <td>2023-07-20 15:16:00</td>\n",
       "      <td>2023-07-20</td>\n",
       "      <td>1516</td>\n",
       "      <td>2605.949951</td>\n",
       "      <td>2604.090088</td>\n",
       "      <td>2605.719971</td>\n",
       "    </tr>\n",
       "    <tr>\n",
       "      <th>193479</th>\n",
       "      <td>2023-07-20 15:17:00</td>\n",
       "      <td>2023-07-20</td>\n",
       "      <td>1517</td>\n",
       "      <td>2604.280029</td>\n",
       "      <td>2603.479980</td>\n",
       "      <td>2604.090088</td>\n",
       "    </tr>\n",
       "    <tr>\n",
       "      <th>193480</th>\n",
       "      <td>2023-07-20 15:18:00</td>\n",
       "      <td>2023-07-20</td>\n",
       "      <td>1518</td>\n",
       "      <td>2604.010010</td>\n",
       "      <td>2602.989990</td>\n",
       "      <td>2603.939941</td>\n",
       "    </tr>\n",
       "    <tr>\n",
       "      <th>193481</th>\n",
       "      <td>2023-07-20 15:19:00</td>\n",
       "      <td>2023-07-20</td>\n",
       "      <td>1519</td>\n",
       "      <td>2604.479980</td>\n",
       "      <td>2603.570068</td>\n",
       "      <td>2603.899902</td>\n",
       "    </tr>\n",
       "    <tr>\n",
       "      <th>193482</th>\n",
       "      <td>2023-07-20 15:20:00</td>\n",
       "      <td>2023-07-20</td>\n",
       "      <td>1520</td>\n",
       "      <td>2604.850098</td>\n",
       "      <td>2603.899902</td>\n",
       "      <td>2604.479980</td>\n",
       "    </tr>\n",
       "  </tbody>\n",
       "</table>\n",
       "<p>193483 rows × 6 columns</p>\n",
       "</div>"
      ],
      "text/plain": [
       "                  Datetime         날짜    시간           고가           저가  \\\n",
       "0      2021-06-28 09:01:00 2021-06-28   901  3308.520020  3304.860107   \n",
       "1      2021-06-28 09:02:00 2021-06-28   902  3307.860107  3302.389893   \n",
       "2      2021-06-28 09:03:00 2021-06-28   903  3304.020020  3302.399902   \n",
       "3      2021-06-28 09:04:00 2021-06-28   904  3302.820068  3300.129883   \n",
       "4      2021-06-28 09:05:00 2021-06-28   905  3299.639893  3298.590088   \n",
       "...                    ...        ...   ...          ...          ...   \n",
       "193478 2023-07-20 15:16:00 2023-07-20  1516  2605.949951  2604.090088   \n",
       "193479 2023-07-20 15:17:00 2023-07-20  1517  2604.280029  2603.479980   \n",
       "193480 2023-07-20 15:18:00 2023-07-20  1518  2604.010010  2602.989990   \n",
       "193481 2023-07-20 15:19:00 2023-07-20  1519  2604.479980  2603.570068   \n",
       "193482 2023-07-20 15:20:00 2023-07-20  1520  2604.850098  2603.899902   \n",
       "\n",
       "                 종가  \n",
       "0       3302.969971  \n",
       "1       3302.909912  \n",
       "2       3300.129883  \n",
       "3       3298.739990  \n",
       "4       3298.919922  \n",
       "...             ...  \n",
       "193478  2605.719971  \n",
       "193479  2604.090088  \n",
       "193480  2603.939941  \n",
       "193481  2603.899902  \n",
       "193482  2604.479980  \n",
       "\n",
       "[193483 rows x 6 columns]"
      ]
     },
     "execution_count": 17,
     "metadata": {},
     "output_type": "execute_result"
    }
   ],
   "source": [
    "testdf"
   ]
  },
  {
   "cell_type": "code",
   "execution_count": 19,
   "metadata": {},
   "outputs": [],
   "source": [
    "ex_df = pd.read_csv('./data/환율데이터/exchange_rate_CNY.csv')"
   ]
  },
  {
   "cell_type": "code",
   "execution_count": 20,
   "metadata": {},
   "outputs": [
    {
     "data": {
      "text/plain": [
       "Timestamp('2021-06-28 09:01:00')"
      ]
     },
     "execution_count": 20,
     "metadata": {},
     "output_type": "execute_result"
    }
   ],
   "source": [
    "testdf['Datetime'][0]"
   ]
  },
  {
   "cell_type": "code",
   "execution_count": 21,
   "metadata": {},
   "outputs": [],
   "source": [
    "ex_df['Datetime'] = ex_df['Datetime'].apply(lambda _ : datetime.strptime(_,'%Y-%m-%d %H:%M:%S'))"
   ]
  },
  {
   "cell_type": "code",
   "execution_count": 22,
   "metadata": {},
   "outputs": [
    {
     "data": {
      "text/plain": [
       "Timestamp('2021-06-28 09:01:00')"
      ]
     },
     "execution_count": 22,
     "metadata": {},
     "output_type": "execute_result"
    }
   ],
   "source": [
    "ex_df['Datetime'][0]"
   ]
  },
  {
   "cell_type": "code",
   "execution_count": 23,
   "metadata": {},
   "outputs": [],
   "source": [
    "abtimes = list(set(ex_df['Datetime']) - set(testdf['Datetime']))"
   ]
  },
  {
   "cell_type": "code",
   "execution_count": 24,
   "metadata": {},
   "outputs": [
    {
     "data": {
      "text/plain": [
       "697"
      ]
     },
     "execution_count": 24,
     "metadata": {},
     "output_type": "execute_result"
    }
   ],
   "source": [
    "len(abtimes)"
   ]
  },
  {
   "cell_type": "code",
   "execution_count": 25,
   "metadata": {},
   "outputs": [],
   "source": [
    "testdf_ = pd.DataFrame(columns=testdf.columns)\n",
    "testdf_['Datetime'] =  abtimes\n",
    "\n",
    "df_kospi = pd.concat([testdf,testdf_])"
   ]
  },
  {
   "cell_type": "code",
   "execution_count": 26,
   "metadata": {},
   "outputs": [
    {
     "data": {
      "text/html": [
       "<div>\n",
       "<style scoped>\n",
       "    .dataframe tbody tr th:only-of-type {\n",
       "        vertical-align: middle;\n",
       "    }\n",
       "\n",
       "    .dataframe tbody tr th {\n",
       "        vertical-align: top;\n",
       "    }\n",
       "\n",
       "    .dataframe thead th {\n",
       "        text-align: right;\n",
       "    }\n",
       "</style>\n",
       "<table border=\"1\" class=\"dataframe\">\n",
       "  <thead>\n",
       "    <tr style=\"text-align: right;\">\n",
       "      <th></th>\n",
       "      <th>Datetime</th>\n",
       "      <th>날짜</th>\n",
       "      <th>시간</th>\n",
       "      <th>고가</th>\n",
       "      <th>저가</th>\n",
       "      <th>종가</th>\n",
       "    </tr>\n",
       "  </thead>\n",
       "  <tbody>\n",
       "    <tr>\n",
       "      <th>0</th>\n",
       "      <td>2021-06-28 09:01:00</td>\n",
       "      <td>2021-06-28</td>\n",
       "      <td>901</td>\n",
       "      <td>3308.520020</td>\n",
       "      <td>3304.860107</td>\n",
       "      <td>3302.969971</td>\n",
       "    </tr>\n",
       "    <tr>\n",
       "      <th>1</th>\n",
       "      <td>2021-06-28 09:02:00</td>\n",
       "      <td>2021-06-28</td>\n",
       "      <td>902</td>\n",
       "      <td>3307.860107</td>\n",
       "      <td>3302.389893</td>\n",
       "      <td>3302.909912</td>\n",
       "    </tr>\n",
       "    <tr>\n",
       "      <th>2</th>\n",
       "      <td>2021-06-28 09:03:00</td>\n",
       "      <td>2021-06-28</td>\n",
       "      <td>903</td>\n",
       "      <td>3304.020020</td>\n",
       "      <td>3302.399902</td>\n",
       "      <td>3300.129883</td>\n",
       "    </tr>\n",
       "    <tr>\n",
       "      <th>3</th>\n",
       "      <td>2021-06-28 09:04:00</td>\n",
       "      <td>2021-06-28</td>\n",
       "      <td>904</td>\n",
       "      <td>3302.820068</td>\n",
       "      <td>3300.129883</td>\n",
       "      <td>3298.739990</td>\n",
       "    </tr>\n",
       "    <tr>\n",
       "      <th>4</th>\n",
       "      <td>2021-06-28 09:05:00</td>\n",
       "      <td>2021-06-28</td>\n",
       "      <td>905</td>\n",
       "      <td>3299.639893</td>\n",
       "      <td>3298.590088</td>\n",
       "      <td>3298.919922</td>\n",
       "    </tr>\n",
       "    <tr>\n",
       "      <th>...</th>\n",
       "      <td>...</td>\n",
       "      <td>...</td>\n",
       "      <td>...</td>\n",
       "      <td>...</td>\n",
       "      <td>...</td>\n",
       "      <td>...</td>\n",
       "    </tr>\n",
       "    <tr>\n",
       "      <th>692</th>\n",
       "      <td>2023-04-10 13:20:00</td>\n",
       "      <td>NaT</td>\n",
       "      <td>NaN</td>\n",
       "      <td>NaN</td>\n",
       "      <td>NaN</td>\n",
       "      <td>NaN</td>\n",
       "    </tr>\n",
       "    <tr>\n",
       "      <th>693</th>\n",
       "      <td>2023-01-31 13:20:00</td>\n",
       "      <td>NaT</td>\n",
       "      <td>NaN</td>\n",
       "      <td>NaN</td>\n",
       "      <td>NaN</td>\n",
       "      <td>NaN</td>\n",
       "    </tr>\n",
       "    <tr>\n",
       "      <th>694</th>\n",
       "      <td>2023-03-27 09:01:00</td>\n",
       "      <td>NaT</td>\n",
       "      <td>NaN</td>\n",
       "      <td>NaN</td>\n",
       "      <td>NaN</td>\n",
       "      <td>NaN</td>\n",
       "    </tr>\n",
       "    <tr>\n",
       "      <th>695</th>\n",
       "      <td>2023-01-02 09:06:00</td>\n",
       "      <td>NaT</td>\n",
       "      <td>NaN</td>\n",
       "      <td>NaN</td>\n",
       "      <td>NaN</td>\n",
       "      <td>NaN</td>\n",
       "    </tr>\n",
       "    <tr>\n",
       "      <th>696</th>\n",
       "      <td>2021-11-18 09:08:00</td>\n",
       "      <td>NaT</td>\n",
       "      <td>NaN</td>\n",
       "      <td>NaN</td>\n",
       "      <td>NaN</td>\n",
       "      <td>NaN</td>\n",
       "    </tr>\n",
       "  </tbody>\n",
       "</table>\n",
       "<p>194180 rows × 6 columns</p>\n",
       "</div>"
      ],
      "text/plain": [
       "               Datetime         날짜   시간           고가           저가           종가\n",
       "0   2021-06-28 09:01:00 2021-06-28  901  3308.520020  3304.860107  3302.969971\n",
       "1   2021-06-28 09:02:00 2021-06-28  902  3307.860107  3302.389893  3302.909912\n",
       "2   2021-06-28 09:03:00 2021-06-28  903  3304.020020  3302.399902  3300.129883\n",
       "3   2021-06-28 09:04:00 2021-06-28  904  3302.820068  3300.129883  3298.739990\n",
       "4   2021-06-28 09:05:00 2021-06-28  905  3299.639893  3298.590088  3298.919922\n",
       "..                  ...        ...  ...          ...          ...          ...\n",
       "692 2023-04-10 13:20:00        NaT  NaN          NaN          NaN          NaN\n",
       "693 2023-01-31 13:20:00        NaT  NaN          NaN          NaN          NaN\n",
       "694 2023-03-27 09:01:00        NaT  NaN          NaN          NaN          NaN\n",
       "695 2023-01-02 09:06:00        NaT  NaN          NaN          NaN          NaN\n",
       "696 2021-11-18 09:08:00        NaT  NaN          NaN          NaN          NaN\n",
       "\n",
       "[194180 rows x 6 columns]"
      ]
     },
     "execution_count": 26,
     "metadata": {},
     "output_type": "execute_result"
    }
   ],
   "source": [
    "df_kospi"
   ]
  },
  {
   "cell_type": "code",
   "execution_count": 27,
   "metadata": {},
   "outputs": [],
   "source": [
    "df_kospi.sort_values(by='Datetime', inplace=True)\n",
    "df_kospi = df_kospi.reindex()\n",
    "\n",
    "df_kospi['날짜'].ffill(inplace=True)\n",
    "\n",
    "df_kospi['고가'].bfill(inplace=True)\n",
    "df_kospi['저가'].bfill(inplace=True)\n",
    "df_kospi['종가'].bfill(inplace=True)"
   ]
  },
  {
   "cell_type": "code",
   "execution_count": 28,
   "metadata": {},
   "outputs": [],
   "source": [
    "df_kospi = df_kospi[['Datetime','고가','저가','종가']]"
   ]
  },
  {
   "cell_type": "code",
   "execution_count": 29,
   "metadata": {},
   "outputs": [],
   "source": [
    "df_kospi.to_csv('./data/kospi.csv',index=False)"
   ]
  },
  {
   "cell_type": "code",
   "execution_count": 30,
   "metadata": {},
   "outputs": [
    {
     "data": {
      "text/html": [
       "<div>\n",
       "<style scoped>\n",
       "    .dataframe tbody tr th:only-of-type {\n",
       "        vertical-align: middle;\n",
       "    }\n",
       "\n",
       "    .dataframe tbody tr th {\n",
       "        vertical-align: top;\n",
       "    }\n",
       "\n",
       "    .dataframe thead th {\n",
       "        text-align: right;\n",
       "    }\n",
       "</style>\n",
       "<table border=\"1\" class=\"dataframe\">\n",
       "  <thead>\n",
       "    <tr style=\"text-align: right;\">\n",
       "      <th></th>\n",
       "      <th>Datetime</th>\n",
       "      <th>고가</th>\n",
       "      <th>저가</th>\n",
       "      <th>종가</th>\n",
       "    </tr>\n",
       "  </thead>\n",
       "  <tbody>\n",
       "    <tr>\n",
       "      <th>0</th>\n",
       "      <td>2021-06-28 09:01:00</td>\n",
       "      <td>3308.520020</td>\n",
       "      <td>3304.860107</td>\n",
       "      <td>3302.969971</td>\n",
       "    </tr>\n",
       "    <tr>\n",
       "      <th>1</th>\n",
       "      <td>2021-06-28 09:02:00</td>\n",
       "      <td>3307.860107</td>\n",
       "      <td>3302.389893</td>\n",
       "      <td>3302.909912</td>\n",
       "    </tr>\n",
       "    <tr>\n",
       "      <th>2</th>\n",
       "      <td>2021-06-28 09:03:00</td>\n",
       "      <td>3304.020020</td>\n",
       "      <td>3302.399902</td>\n",
       "      <td>3300.129883</td>\n",
       "    </tr>\n",
       "    <tr>\n",
       "      <th>3</th>\n",
       "      <td>2021-06-28 09:04:00</td>\n",
       "      <td>3302.820068</td>\n",
       "      <td>3300.129883</td>\n",
       "      <td>3298.739990</td>\n",
       "    </tr>\n",
       "    <tr>\n",
       "      <th>4</th>\n",
       "      <td>2021-06-28 09:05:00</td>\n",
       "      <td>3299.639893</td>\n",
       "      <td>3298.590088</td>\n",
       "      <td>3298.919922</td>\n",
       "    </tr>\n",
       "    <tr>\n",
       "      <th>...</th>\n",
       "      <td>...</td>\n",
       "      <td>...</td>\n",
       "      <td>...</td>\n",
       "      <td>...</td>\n",
       "    </tr>\n",
       "    <tr>\n",
       "      <th>193478</th>\n",
       "      <td>2023-07-20 15:16:00</td>\n",
       "      <td>2605.949951</td>\n",
       "      <td>2604.090088</td>\n",
       "      <td>2605.719971</td>\n",
       "    </tr>\n",
       "    <tr>\n",
       "      <th>193479</th>\n",
       "      <td>2023-07-20 15:17:00</td>\n",
       "      <td>2604.280029</td>\n",
       "      <td>2603.479980</td>\n",
       "      <td>2604.090088</td>\n",
       "    </tr>\n",
       "    <tr>\n",
       "      <th>193480</th>\n",
       "      <td>2023-07-20 15:18:00</td>\n",
       "      <td>2604.010010</td>\n",
       "      <td>2602.989990</td>\n",
       "      <td>2603.939941</td>\n",
       "    </tr>\n",
       "    <tr>\n",
       "      <th>193481</th>\n",
       "      <td>2023-07-20 15:19:00</td>\n",
       "      <td>2604.479980</td>\n",
       "      <td>2603.570068</td>\n",
       "      <td>2603.899902</td>\n",
       "    </tr>\n",
       "    <tr>\n",
       "      <th>193482</th>\n",
       "      <td>2023-07-20 15:20:00</td>\n",
       "      <td>2604.850098</td>\n",
       "      <td>2603.899902</td>\n",
       "      <td>2604.479980</td>\n",
       "    </tr>\n",
       "  </tbody>\n",
       "</table>\n",
       "<p>194180 rows × 4 columns</p>\n",
       "</div>"
      ],
      "text/plain": [
       "                  Datetime           고가           저가           종가\n",
       "0      2021-06-28 09:01:00  3308.520020  3304.860107  3302.969971\n",
       "1      2021-06-28 09:02:00  3307.860107  3302.389893  3302.909912\n",
       "2      2021-06-28 09:03:00  3304.020020  3302.399902  3300.129883\n",
       "3      2021-06-28 09:04:00  3302.820068  3300.129883  3298.739990\n",
       "4      2021-06-28 09:05:00  3299.639893  3298.590088  3298.919922\n",
       "...                    ...          ...          ...          ...\n",
       "193478 2023-07-20 15:16:00  2605.949951  2604.090088  2605.719971\n",
       "193479 2023-07-20 15:17:00  2604.280029  2603.479980  2604.090088\n",
       "193480 2023-07-20 15:18:00  2604.010010  2602.989990  2603.939941\n",
       "193481 2023-07-20 15:19:00  2604.479980  2603.570068  2603.899902\n",
       "193482 2023-07-20 15:20:00  2604.850098  2603.899902  2604.479980\n",
       "\n",
       "[194180 rows x 4 columns]"
      ]
     },
     "execution_count": 30,
     "metadata": {},
     "output_type": "execute_result"
    }
   ],
   "source": [
    "df_kospi"
   ]
  }
 ],
 "metadata": {
  "kernelspec": {
   "display_name": "py37_32",
   "language": "python",
   "name": "python3"
  },
  "language_info": {
   "codemirror_mode": {
    "name": "ipython",
    "version": 3
   },
   "file_extension": ".py",
   "mimetype": "text/x-python",
   "name": "python",
   "nbconvert_exporter": "python",
   "pygments_lexer": "ipython3",
   "version": "3.7.13"
  },
  "orig_nbformat": 4
 },
 "nbformat": 4,
 "nbformat_minor": 2
}
