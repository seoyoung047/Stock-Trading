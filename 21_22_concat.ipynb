{
 "cells": [
  {
   "cell_type": "code",
   "execution_count": 1,
   "metadata": {},
   "outputs": [],
   "source": [
    "import pandas as pd\n",
    "import numpy as np\n",
    "import os\n",
    "import glob\n",
    "from datetime import datetime\n",
    "from tqdm import tqdm"
   ]
  },
  {
   "cell_type": "code",
   "execution_count": 2,
   "metadata": {},
   "outputs": [
    {
     "name": "stdout",
     "output_type": "stream",
     "text": [
      "['000720', '004170', '031440', '034300', '035510', '037710', '097950', '139480', 'df_000720.csv', 'df_004170.csv', 'df_031440.csv', 'df_034300.csv', 'df_035510.csv', 'df_037710.csv', 'df_097950.csv', 'df_139480.csv']\n"
     ]
    }
   ],
   "source": [
    "#신세계푸드 031440 / 신세계건설 034300 / 신세계 I&C 035510\n",
    "# 광주신세계 037710 / (주식회사)신세계 004170 / (주식회사)이마트 139480 / 현대건설 000720 / CJ제일제당 097950\n",
    "codes=['031440','034300','035510','037710','004170','139480','000720','097950']\n",
    "forders = os.listdir('./data/종목데이터/20210628_20220709/')\n",
    "print(forders)"
   ]
  },
  {
   "cell_type": "code",
   "execution_count": 3,
   "metadata": {},
   "outputs": [],
   "source": [
    "timelist = pd.date_range('09:01','15:20',freq='1min').time"
   ]
  },
  {
   "cell_type": "code",
   "execution_count": 5,
   "metadata": {},
   "outputs": [
    {
     "data": {
      "text/plain": [
       "380"
      ]
     },
     "execution_count": 5,
     "metadata": {},
     "output_type": "execute_result"
    }
   ],
   "source": [
    "len(timelist)"
   ]
  },
  {
   "cell_type": "code",
   "execution_count": 6,
   "metadata": {},
   "outputs": [
    {
     "data": {
      "text/plain": [
       "'0901'"
      ]
     },
     "execution_count": 6,
     "metadata": {},
     "output_type": "execute_result"
    }
   ],
   "source": [
    "timelist.astype('str')[0][:2] +timelist.astype('str')[0][3:5]"
   ]
  },
  {
   "cell_type": "code",
   "execution_count": 7,
   "metadata": {},
   "outputs": [],
   "source": [
    "forders_list = []\n",
    "for code in codes:\n",
    "    forders_list.append(os.listdir('./data/종목데이터/20210628_20220709/{}'.format(code)))\n",
    "    "
   ]
  },
  {
   "cell_type": "code",
   "execution_count": 8,
   "metadata": {},
   "outputs": [
    {
     "data": {
      "text/plain": [
       "8"
      ]
     },
     "execution_count": 8,
     "metadata": {},
     "output_type": "execute_result"
    }
   ],
   "source": [
    "len(forders_list)"
   ]
  },
  {
   "cell_type": "code",
   "execution_count": 9,
   "metadata": {},
   "outputs": [
    {
     "name": "stdout",
     "output_type": "stream",
     "text": [
      "035510_2022_04_06.csv\n"
     ]
    },
    {
     "name": "stdout",
     "output_type": "stream",
     "text": [
      "035510_2022_04_07.csv\n",
      "035510_2022_04_08.csv\n",
      "037710_2022_04_06.csv\n",
      "037710_2022_04_07.csv\n",
      "037710_2022_04_08.csv\n"
     ]
    }
   ],
   "source": [
    "# 매매거래 정지되었던 22년 4월 6,7,8일 전날 데이터로 채우기\n",
    "# 035510,037710\n",
    "\n",
    "\n",
    "nan_dates = ['_2022_04_06','_2022_04_07','_2022_04_08']\n",
    "fill_date = [20220406,20220407,20220408]\n",
    "\n",
    "for code in ['035510','037710']:\n",
    "    i=0    \n",
    "    for nan_date in nan_dates:\n",
    "        df = pd.read_csv(r'./data/종목데이터/20210628_20220709/{}/{}{}.csv'.format(code,code, nan_date), index_col=0)\n",
    "        df_0405 = pd.read_csv(r'./data/종목데이터/20210628_20220709/{}/{}_2022_04_05.csv'.format(code,code), index_col=0)\n",
    "\n",
    "        df['시간'] = timelist.astype('str')[i][:2] +timelist.astype('str')[i][3:5]\n",
    "        df['날짜'] = fill_date[i]\n",
    "        df['종목명'] = df_0405['종목명']\n",
    "        df['시가'] = df_0405['시가']\n",
    "        df['고가'] = df_0405['고가']\n",
    "        df['저가'] = df_0405['저가']\n",
    "        df['종가'] = df_0405['종가']\n",
    "        df['거래량'].fillna(0,inplace=True)\n",
    "        df['거래대금'].fillna(0,inplace=True)\n",
    "        df['누적체결매도수량'].fillna(0,inplace=True)\n",
    "        df['대비부호'].fillna(0,inplace=True)\n",
    "\n",
    "        df.to_csv('./data/종목데이터/20210628_20220709/{}/{}{}.csv'.format(code,code,nan_date))\n",
    "\n",
    "        print('{}{}.csv'.format(code,nan_date))\n",
    "        i+=1"
   ]
  },
  {
   "cell_type": "code",
   "execution_count": 11,
   "metadata": {},
   "outputs": [
    {
     "name": "stdout",
     "output_type": "stream",
     "text": [
      "0 031440  :  123\n",
      "1 034300  :  123\n",
      "2 035510  :  123\n",
      "3 037710  :  123\n",
      "4 004170  :  123\n",
      "5 139480  :  123\n",
      "6 000720  :  123\n",
      "7 097950  :  123\n"
     ]
    }
   ],
   "source": [
    "\n",
    "i=0\n",
    "# 파일 합치기\n",
    "for code in codes:\n",
    "    \n",
    "    j=0   # 영업 정지일 찾기\n",
    "\n",
    "    globals()['df_{}'.format(code)] = pd.DataFrame()\n",
    "\n",
    "    for forder in forders_list[i]:\n",
    "\n",
    "        df = pd.read_csv('./data/종목데이터/20210628_20220709/{}/{}'.format(code,forder), index_col=0, encoding='utf-8')\n",
    "        \n",
    "        if len(df) > 0 :\n",
    "                        \n",
    "            date = df[df['날짜'].notnull()]['날짜'][0]\n",
    "            codenm= df[df['종목명'].notnull()]['종목명'][0]\n",
    "            df.insert(0,'Datetime', df['날짜'].astype('str') + df['시간'].astype('str'))\n",
    "\n",
    "            df['Datetime'] = df['Datetime'].apply(lambda _ : datetime.strptime(_,'%Y%m%d%H%M'))\n",
    "\n",
    "            # 15시20분 이후 데이터 자르기\n",
    "            t=0\n",
    "            for time_ in df['Datetime'].apply(lambda _ : _.time()):\n",
    "                if time_ > datetime.strptime('1520','%H%M').time():\n",
    "                    df.drop(index=[t],axis=1,inplace=True)\n",
    "                    t+=1\n",
    "                else:\n",
    "                    t+=1\n",
    "            # 9시~3시20분 1분 타임라인 리스트\n",
    "            timelist = pd.date_range('09:01','15:20',freq='1min').time.astype('str')\n",
    "\n",
    "            # 빠진 시간\n",
    "            abtimes =  list(set(timelist)-set(df['Datetime'].apply(lambda _ : _.time().strftime('%H:%M:%S'))))\n",
    "\n",
    "            datetimes = []\n",
    "            for ab in abtimes:\n",
    "                datetimes.append(datetime.strptime(date.astype('str')+ ab,'%Y%m%d%H:%M:%S'))\n",
    "                \n",
    "            testdf = pd.DataFrame(columns=df.columns)\n",
    "            testdf['Datetime'] = datetimes\n",
    "\n",
    "\n",
    "            df = pd.concat([df,testdf])\n",
    "\n",
    "            df.sort_values(by='Datetime', ascending=True, inplace=True)\n",
    "\n",
    "            df = df[['Datetime','시가','고가','저가','종가','거래량','거래대금']]\n",
    "\n",
    "            # df['시간'] = timelist\n",
    "            \n",
    "            # df['날짜'].fillna(value=date, inplace=True)\n",
    "            # df['종목명'].fillna(value=codenm, inplace=True)\n",
    "\n",
    "            df['시가'].ffill(inplace=True)\n",
    "            df['고가'].ffill(inplace=True)\n",
    "            df['저가'].ffill(inplace=True)\n",
    "            df['종가'].ffill(inplace=True)\n",
    "\n",
    "            \n",
    "            df['거래량'].fillna(value=0, inplace=True)\n",
    "            df['거래대금'].fillna(value=0, inplace=True)\n",
    "            # df['대비부호'].fillna(value=0, inplace=True)\n",
    "\n",
    "            globals()['df_{}'.format(code)] = pd.concat([globals()['df_{}'.format(code)], df])\n",
    "\n",
    "\n",
    "        if len(df) ==0 :\n",
    "            j+=1\n",
    "            \n",
    "    globals()['df_{}'.format(code)].reset_index(inplace=True,drop=True)\n",
    "\n",
    "    print(i,code,\" : \",j)\n",
    "    i+=1"
   ]
  },
  {
   "cell_type": "code",
   "execution_count": 12,
   "metadata": {},
   "outputs": [
    {
     "data": {
      "text/html": [
       "<div>\n",
       "<style scoped>\n",
       "    .dataframe tbody tr th:only-of-type {\n",
       "        vertical-align: middle;\n",
       "    }\n",
       "\n",
       "    .dataframe tbody tr th {\n",
       "        vertical-align: top;\n",
       "    }\n",
       "\n",
       "    .dataframe thead th {\n",
       "        text-align: right;\n",
       "    }\n",
       "</style>\n",
       "<table border=\"1\" class=\"dataframe\">\n",
       "  <thead>\n",
       "    <tr style=\"text-align: right;\">\n",
       "      <th></th>\n",
       "      <th>Datetime</th>\n",
       "      <th>시가</th>\n",
       "      <th>고가</th>\n",
       "      <th>저가</th>\n",
       "      <th>종가</th>\n",
       "      <th>거래량</th>\n",
       "      <th>거래대금</th>\n",
       "    </tr>\n",
       "  </thead>\n",
       "  <tbody>\n",
       "    <tr>\n",
       "      <th>0</th>\n",
       "      <td>2021-06-28 09:01:00</td>\n",
       "      <td>54973.0</td>\n",
       "      <td>55070.0</td>\n",
       "      <td>54681.0</td>\n",
       "      <td>54973.0</td>\n",
       "      <td>49076</td>\n",
       "      <td>2696800000</td>\n",
       "    </tr>\n",
       "    <tr>\n",
       "      <th>1</th>\n",
       "      <td>2021-06-28 09:02:00</td>\n",
       "      <td>54973.0</td>\n",
       "      <td>55168.0</td>\n",
       "      <td>54876.0</td>\n",
       "      <td>55070.0</td>\n",
       "      <td>21315</td>\n",
       "      <td>1172830000</td>\n",
       "    </tr>\n",
       "    <tr>\n",
       "      <th>2</th>\n",
       "      <td>2021-06-28 09:03:00</td>\n",
       "      <td>55070.0</td>\n",
       "      <td>55168.0</td>\n",
       "      <td>54778.0</td>\n",
       "      <td>54778.0</td>\n",
       "      <td>25534</td>\n",
       "      <td>1404920000</td>\n",
       "    </tr>\n",
       "    <tr>\n",
       "      <th>3</th>\n",
       "      <td>2021-06-28 09:04:00</td>\n",
       "      <td>54876.0</td>\n",
       "      <td>54876.0</td>\n",
       "      <td>54486.0</td>\n",
       "      <td>54681.0</td>\n",
       "      <td>20114</td>\n",
       "      <td>1099340000</td>\n",
       "    </tr>\n",
       "    <tr>\n",
       "      <th>4</th>\n",
       "      <td>2021-06-28 09:05:00</td>\n",
       "      <td>54778.0</td>\n",
       "      <td>54876.0</td>\n",
       "      <td>54584.0</td>\n",
       "      <td>54876.0</td>\n",
       "      <td>15079</td>\n",
       "      <td>825440000</td>\n",
       "    </tr>\n",
       "    <tr>\n",
       "      <th>...</th>\n",
       "      <td>...</td>\n",
       "      <td>...</td>\n",
       "      <td>...</td>\n",
       "      <td>...</td>\n",
       "      <td>...</td>\n",
       "      <td>...</td>\n",
       "      <td>...</td>\n",
       "    </tr>\n",
       "    <tr>\n",
       "      <th>375</th>\n",
       "      <td>2021-06-28 15:16:00</td>\n",
       "      <td>56627.0</td>\n",
       "      <td>56724.0</td>\n",
       "      <td>56627.0</td>\n",
       "      <td>56724.0</td>\n",
       "      <td>3536</td>\n",
       "      <td>200330000</td>\n",
       "    </tr>\n",
       "    <tr>\n",
       "      <th>376</th>\n",
       "      <td>2021-06-28 15:17:00</td>\n",
       "      <td>56627.0</td>\n",
       "      <td>56724.0</td>\n",
       "      <td>56627.0</td>\n",
       "      <td>56724.0</td>\n",
       "      <td>4459</td>\n",
       "      <td>252600000</td>\n",
       "    </tr>\n",
       "    <tr>\n",
       "      <th>377</th>\n",
       "      <td>2021-06-28 15:18:00</td>\n",
       "      <td>56724.0</td>\n",
       "      <td>56724.0</td>\n",
       "      <td>56627.0</td>\n",
       "      <td>56627.0</td>\n",
       "      <td>2633</td>\n",
       "      <td>149190000</td>\n",
       "    </tr>\n",
       "    <tr>\n",
       "      <th>378</th>\n",
       "      <td>2021-06-28 15:19:00</td>\n",
       "      <td>56724.0</td>\n",
       "      <td>56724.0</td>\n",
       "      <td>56627.0</td>\n",
       "      <td>56627.0</td>\n",
       "      <td>3348</td>\n",
       "      <td>189730000</td>\n",
       "    </tr>\n",
       "    <tr>\n",
       "      <th>379</th>\n",
       "      <td>2021-06-28 15:20:00</td>\n",
       "      <td>56724.0</td>\n",
       "      <td>56724.0</td>\n",
       "      <td>56627.0</td>\n",
       "      <td>56627.0</td>\n",
       "      <td>9583</td>\n",
       "      <td>543270000</td>\n",
       "    </tr>\n",
       "  </tbody>\n",
       "</table>\n",
       "<p>380 rows × 7 columns</p>\n",
       "</div>"
      ],
      "text/plain": [
       "               Datetime       시가       고가       저가       종가    거래량        거래대금\n",
       "0   2021-06-28 09:01:00  54973.0  55070.0  54681.0  54973.0  49076  2696800000\n",
       "1   2021-06-28 09:02:00  54973.0  55168.0  54876.0  55070.0  21315  1172830000\n",
       "2   2021-06-28 09:03:00  55070.0  55168.0  54778.0  54778.0  25534  1404920000\n",
       "3   2021-06-28 09:04:00  54876.0  54876.0  54486.0  54681.0  20114  1099340000\n",
       "4   2021-06-28 09:05:00  54778.0  54876.0  54584.0  54876.0  15079   825440000\n",
       "..                  ...      ...      ...      ...      ...    ...         ...\n",
       "375 2021-06-28 15:16:00  56627.0  56724.0  56627.0  56724.0   3536   200330000\n",
       "376 2021-06-28 15:17:00  56627.0  56724.0  56627.0  56724.0   4459   252600000\n",
       "377 2021-06-28 15:18:00  56724.0  56724.0  56627.0  56627.0   2633   149190000\n",
       "378 2021-06-28 15:19:00  56724.0  56724.0  56627.0  56627.0   3348   189730000\n",
       "379 2021-06-28 15:20:00  56724.0  56724.0  56627.0  56627.0   9583   543270000\n",
       "\n",
       "[380 rows x 7 columns]"
      ]
     },
     "execution_count": 12,
     "metadata": {},
     "output_type": "execute_result"
    }
   ],
   "source": [
    "df_000720.iloc[:380,:]"
   ]
  },
  {
   "cell_type": "code",
   "execution_count": 13,
   "metadata": {},
   "outputs": [],
   "source": [
    "for code in codes:\n",
    "    \n",
    "    globals()['df_{}'.format(code)].drop_duplicates(['Datetime'], keep='first', inplace=True, ignore_index=True)\n",
    "\n",
    "    globals()['df_{}'.format(code)]['시가'].ffill(inplace=True)\n",
    "    globals()['df_{}'.format(code)]['고가'].ffill(inplace=True)\n",
    "    globals()['df_{}'.format(code)]['저가'].ffill(inplace=True)\n",
    "    globals()['df_{}'.format(code)]['종가'].ffill(inplace=True)\n",
    "    globals()['df_{}'.format(code)].to_csv('./data/종목데이터/20210628_20220709/df_{}.csv'.format(code),index=False)"
   ]
  },
  {
   "cell_type": "code",
   "execution_count": 14,
   "metadata": {},
   "outputs": [
    {
     "data": {
      "text/plain": [
       "['031440',\n",
       " '034300',\n",
       " '035510',\n",
       " '037710',\n",
       " '004170',\n",
       " '139480',\n",
       " '000720',\n",
       " '097950']"
      ]
     },
     "execution_count": 14,
     "metadata": {},
     "output_type": "execute_result"
    }
   ],
   "source": [
    "codes"
   ]
  },
  {
   "cell_type": "code",
   "execution_count": 15,
   "metadata": {},
   "outputs": [
    {
     "name": "stdout",
     "output_type": "stream",
     "text": [
      "<class 'pandas.core.frame.DataFrame'>\n",
      "RangeIndex: 96900 entries, 0 to 96899\n",
      "Data columns (total 7 columns):\n",
      " #   Column    Non-Null Count  Dtype         \n",
      "---  ------    --------------  -----         \n",
      " 0   Datetime  96900 non-null  datetime64[ns]\n",
      " 1   시가        96900 non-null  float64       \n",
      " 2   고가        96900 non-null  float64       \n",
      " 3   저가        96900 non-null  float64       \n",
      " 4   종가        96900 non-null  float64       \n",
      " 5   거래량       96900 non-null  int64         \n",
      " 6   거래대금      96900 non-null  int64         \n",
      "dtypes: datetime64[ns](1), float64(4), int64(2)\n",
      "memory usage: 5.2 MB\n"
     ]
    }
   ],
   "source": [
    "df_037710.info()"
   ]
  },
  {
   "cell_type": "code",
   "execution_count": 16,
   "metadata": {},
   "outputs": [
    {
     "data": {
      "text/plain": [
       "Series([], Name: 시가, dtype: float64)"
      ]
     },
     "execution_count": 16,
     "metadata": {},
     "output_type": "execute_result"
    }
   ],
   "source": [
    "df_000720[df_000720['시가'].isnull()]['시가']"
   ]
  },
  {
   "cell_type": "code",
   "execution_count": 17,
   "metadata": {},
   "outputs": [
    {
     "data": {
      "text/html": [
       "<div>\n",
       "<style scoped>\n",
       "    .dataframe tbody tr th:only-of-type {\n",
       "        vertical-align: middle;\n",
       "    }\n",
       "\n",
       "    .dataframe tbody tr th {\n",
       "        vertical-align: top;\n",
       "    }\n",
       "\n",
       "    .dataframe thead th {\n",
       "        text-align: right;\n",
       "    }\n",
       "</style>\n",
       "<table border=\"1\" class=\"dataframe\">\n",
       "  <thead>\n",
       "    <tr style=\"text-align: right;\">\n",
       "      <th></th>\n",
       "      <th>Datetime</th>\n",
       "      <th>시가</th>\n",
       "      <th>고가</th>\n",
       "      <th>저가</th>\n",
       "      <th>종가</th>\n",
       "      <th>거래량</th>\n",
       "      <th>거래대금</th>\n",
       "    </tr>\n",
       "  </thead>\n",
       "  <tbody>\n",
       "    <tr>\n",
       "      <th>36860</th>\n",
       "      <td>2021-11-18 09:01:00</td>\n",
       "      <td>49150.0</td>\n",
       "      <td>49150.0</td>\n",
       "      <td>49100.0</td>\n",
       "      <td>49150.0</td>\n",
       "      <td>0</td>\n",
       "      <td>0</td>\n",
       "    </tr>\n",
       "    <tr>\n",
       "      <th>36861</th>\n",
       "      <td>2021-11-18 09:02:00</td>\n",
       "      <td>49150.0</td>\n",
       "      <td>49150.0</td>\n",
       "      <td>49100.0</td>\n",
       "      <td>49150.0</td>\n",
       "      <td>0</td>\n",
       "      <td>0</td>\n",
       "    </tr>\n",
       "    <tr>\n",
       "      <th>36862</th>\n",
       "      <td>2021-11-18 09:03:00</td>\n",
       "      <td>49150.0</td>\n",
       "      <td>49150.0</td>\n",
       "      <td>49100.0</td>\n",
       "      <td>49150.0</td>\n",
       "      <td>0</td>\n",
       "      <td>0</td>\n",
       "    </tr>\n",
       "    <tr>\n",
       "      <th>36863</th>\n",
       "      <td>2021-11-18 09:04:00</td>\n",
       "      <td>49150.0</td>\n",
       "      <td>49150.0</td>\n",
       "      <td>49100.0</td>\n",
       "      <td>49150.0</td>\n",
       "      <td>0</td>\n",
       "      <td>0</td>\n",
       "    </tr>\n",
       "    <tr>\n",
       "      <th>36864</th>\n",
       "      <td>2021-11-18 09:05:00</td>\n",
       "      <td>49150.0</td>\n",
       "      <td>49150.0</td>\n",
       "      <td>49100.0</td>\n",
       "      <td>49150.0</td>\n",
       "      <td>0</td>\n",
       "      <td>0</td>\n",
       "    </tr>\n",
       "    <tr>\n",
       "      <th>...</th>\n",
       "      <td>...</td>\n",
       "      <td>...</td>\n",
       "      <td>...</td>\n",
       "      <td>...</td>\n",
       "      <td>...</td>\n",
       "      <td>...</td>\n",
       "      <td>...</td>\n",
       "    </tr>\n",
       "    <tr>\n",
       "      <th>96895</th>\n",
       "      <td>2022-07-08 15:16:00</td>\n",
       "      <td>39650.0</td>\n",
       "      <td>39700.0</td>\n",
       "      <td>39650.0</td>\n",
       "      <td>39700.0</td>\n",
       "      <td>1385</td>\n",
       "      <td>54980000</td>\n",
       "    </tr>\n",
       "    <tr>\n",
       "      <th>96896</th>\n",
       "      <td>2022-07-08 15:17:00</td>\n",
       "      <td>39700.0</td>\n",
       "      <td>39700.0</td>\n",
       "      <td>39650.0</td>\n",
       "      <td>39700.0</td>\n",
       "      <td>553</td>\n",
       "      <td>21930000</td>\n",
       "    </tr>\n",
       "    <tr>\n",
       "      <th>96897</th>\n",
       "      <td>2022-07-08 15:18:00</td>\n",
       "      <td>39700.0</td>\n",
       "      <td>39700.0</td>\n",
       "      <td>39600.0</td>\n",
       "      <td>39650.0</td>\n",
       "      <td>2702</td>\n",
       "      <td>107150000</td>\n",
       "    </tr>\n",
       "    <tr>\n",
       "      <th>96898</th>\n",
       "      <td>2022-07-08 15:19:00</td>\n",
       "      <td>39650.0</td>\n",
       "      <td>39650.0</td>\n",
       "      <td>39600.0</td>\n",
       "      <td>39600.0</td>\n",
       "      <td>580</td>\n",
       "      <td>22970000</td>\n",
       "    </tr>\n",
       "    <tr>\n",
       "      <th>96899</th>\n",
       "      <td>2022-07-08 15:20:00</td>\n",
       "      <td>39650.0</td>\n",
       "      <td>39650.0</td>\n",
       "      <td>39550.0</td>\n",
       "      <td>39600.0</td>\n",
       "      <td>1070</td>\n",
       "      <td>42360000</td>\n",
       "    </tr>\n",
       "  </tbody>\n",
       "</table>\n",
       "<p>60040 rows × 7 columns</p>\n",
       "</div>"
      ],
      "text/plain": [
       "                 Datetime       시가       고가       저가       종가   거래량       거래대금\n",
       "36860 2021-11-18 09:01:00  49150.0  49150.0  49100.0  49150.0     0          0\n",
       "36861 2021-11-18 09:02:00  49150.0  49150.0  49100.0  49150.0     0          0\n",
       "36862 2021-11-18 09:03:00  49150.0  49150.0  49100.0  49150.0     0          0\n",
       "36863 2021-11-18 09:04:00  49150.0  49150.0  49100.0  49150.0     0          0\n",
       "36864 2021-11-18 09:05:00  49150.0  49150.0  49100.0  49150.0     0          0\n",
       "...                   ...      ...      ...      ...      ...   ...        ...\n",
       "96895 2022-07-08 15:16:00  39650.0  39700.0  39650.0  39700.0  1385   54980000\n",
       "96896 2022-07-08 15:17:00  39700.0  39700.0  39650.0  39700.0   553   21930000\n",
       "96897 2022-07-08 15:18:00  39700.0  39700.0  39600.0  39650.0  2702  107150000\n",
       "96898 2022-07-08 15:19:00  39650.0  39650.0  39600.0  39600.0   580   22970000\n",
       "96899 2022-07-08 15:20:00  39650.0  39650.0  39550.0  39600.0  1070   42360000\n",
       "\n",
       "[60040 rows x 7 columns]"
      ]
     },
     "execution_count": 17,
     "metadata": {},
     "output_type": "execute_result"
    }
   ],
   "source": [
    "df_000720.iloc[36860:,:]"
   ]
  },
  {
   "cell_type": "code",
   "execution_count": null,
   "metadata": {},
   "outputs": [],
   "source": []
  },
  {
   "cell_type": "code",
   "execution_count": null,
   "metadata": {},
   "outputs": [],
   "source": []
  }
 ],
 "metadata": {
  "kernelspec": {
   "display_name": "py37_32",
   "language": "python",
   "name": "python3"
  },
  "language_info": {
   "codemirror_mode": {
    "name": "ipython",
    "version": 3
   },
   "file_extension": ".py",
   "mimetype": "text/x-python",
   "name": "python",
   "nbconvert_exporter": "python",
   "pygments_lexer": "ipython3",
   "version": "3.7.13"
  },
  "orig_nbformat": 4
 },
 "nbformat": 4,
 "nbformat_minor": 2
}
